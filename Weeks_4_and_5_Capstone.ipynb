{
 "cells": [
  {
   "cell_type": "markdown",
   "metadata": {},
   "source": [
    "# Weeks 4 & 5: An Econometric Study on Gentrification Forecasting in Washington, D.C."
   ]
  },
  {
   "cell_type": "markdown",
   "metadata": {},
   "source": [
    "## Introduction"
   ]
  },
  {
   "cell_type": "markdown",
   "metadata": {},
   "source": [
    "For debt and equity lenders, as well as government support programs, developing a balanced portfolio of high potential neighborhoods has become a high priority mission out of the 2020 pandemic. Access to and interpretation of real time data has become critical in forecasting the month to month economics of neighborhoods, and to this end the research aims to build a data-driven, real-time approach to defining individual markets in the Washington, D.C. area.\n",
    "\n",
    "This analysis builds off of recent work establishing one-way, time delayed correlation between particular business categories entrants to a zip code and the gentrification of a neighborhood, as defined by the change in Streetscore [1].\n",
    "\n",
    "Principle to the findings were the predictive power of increases in vegetarian restaurants, cafes and wine bars to positive Streetscore changes. Examining these factors in Washington, D.C. the author hopes to further this area of research by leveraging Foursquare's public API to map out density clusters of the highlighted venues. In this way, competitive markets can be defined on a neighborhood to neighborhood basis."
   ]
  },
  {
   "cell_type": "markdown",
   "metadata": {},
   "source": [
    "## Data"
   ]
  },
  {
   "cell_type": "markdown",
   "metadata": {},
   "source": [
    "Foursquare data will be pulled over the public API to collect venue category and location data for the Washington, D.C. area. Specifically, vegetarian restaurants, cafes and wine bars will be filtered for due to their demonstrated correlation with the gentrification of neighborhoods.\n",
    "\n",
    "Once the data is collected in a dataframe, we will run a k-means cluster on a venue by venue basis against category venue, latitude, longtitude and ultimately determine ten clusters. We will then map these clusters and their constituent venues onto a map of Washington D.C. using the folium library for visualization of these neighborhoods."
   ]
  },
  {
   "cell_type": "markdown",
   "metadata": {},
   "source": [
    "## References"
   ]
  },
  {
   "cell_type": "markdown",
   "metadata": {},
   "source": [
    "[1] Glaeser, E.L., Kim H., Luca M. \"MEAUSURING GENTRIFICATION: USING YELP DATA TO QUANTIFY NEIGHBORHOOD CHANGE\""
   ]
  }
 ],
 "metadata": {
  "kernelspec": {
   "display_name": "Python 3",
   "language": "python",
   "name": "python3"
  },
  "language_info": {
   "codemirror_mode": {
    "name": "ipython",
    "version": 3
   },
   "file_extension": ".py",
   "mimetype": "text/x-python",
   "name": "python",
   "nbconvert_exporter": "python",
   "pygments_lexer": "ipython3",
   "version": "3.7.6"
  }
 },
 "nbformat": 4,
 "nbformat_minor": 4
}
